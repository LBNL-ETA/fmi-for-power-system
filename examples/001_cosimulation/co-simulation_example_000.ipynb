{
 "cells": [
  {
   "cell_type": "code",
   "execution_count": 3,
   "metadata": {},
   "outputs": [],
   "source": [
    "import pandas\n",
    "from tabulate import tabulate"
   ]
  },
  {
   "cell_type": "code",
   "execution_count": 4,
   "metadata": {},
   "outputs": [
    {
     "name": "stdout",
     "output_type": "stream",
     "text": [
      "+----+--------+---------------+-------------+---------+--------+--------+\n",
      "|    | name   | description   | causality   |   start | type   | unit   |\n",
      "|----+--------+---------------+-------------+---------+--------+--------|\n",
      "|  0 | KW_7   | _             | input       |       0 | Real   | _      |\n",
      "|  1 | KVAR_7 | _             | input       |       0 | Real   | _      |\n",
      "|  2 | Vpu_7  | _             | output      |       0 | Real   | _      |\n",
      "|  3 | Vpu_12 | _             | output      |       0 | Real   | _      |\n",
      "+----+--------+---------------+-------------+---------+--------+--------+\n"
     ]
    }
   ],
   "source": [
    "structure = pandas.DataFrame(columns=['name', 'description',\n",
    "                                      'causality', 'start',\n",
    "                                      'type', 'unit'])\n",
    "# Open P, Q, V for each PV\n",
    "node = 7\n",
    "structure = structure.append(\n",
    "    {'name': 'KW_' + str(node),\n",
    "     'causality': 'input'},\n",
    "    ignore_index=True)\n",
    "structure = structure.append(\n",
    "    {'name': 'KVAR_' + str(node),\n",
    "     'causality': 'input'},\n",
    "    ignore_index=True)\n",
    "structure = structure.append(\n",
    "    {'name': 'Vpu_' + str(node),\n",
    "     'causality': 'output'},\n",
    "    ignore_index=True)\n",
    "structure = structure.append(\n",
    "    {'name': 'Vpu_' + str(12),\n",
    "     'causality': 'output'},\n",
    "    ignore_index=True)\n",
    "\n",
    "\n",
    "structure['start'] = [0] * len(structure)\n",
    "structure['description'] = ['_'] * len(structure)\n",
    "structure['type'] = ['Real'] * len(structure)\n",
    "structure['unit'] = ['_'] * len(structure)\n",
    "\n",
    "print(tabulate(structure.head(), headers='keys', tablefmt='psql'))\n",
    "structure.to_excel('pandapower/pandapower.xlsx', index=False)"
   ]
  },
  {
   "cell_type": "code",
   "execution_count": 9,
   "metadata": {},
   "outputs": [],
   "source": [
    "import shlex, subprocess\n",
    "cmd = (\"C:/JModelica.org-2.1/setenv.bat && \" +\n",
    "       \" cd pandapower/\" + \" && \"\n",
    "       \"cyderc \" +\n",
    "       \" --path ./\"\n",
    "       \" --name pandapower\" +\n",
    "       \" --io pandapower.xlsx\" +\n",
    "       \" --fmu_struc python\" +\n",
    "       \" --fmu_type cs\" +\n",
    "       \" --path_to_simulatortofmu C:/Users/cyder/Desktop/\" +\n",
    "       \"SimulatorToFMU/simulatortofmu/parser/SimulatorToFMU.py\")        \n",
    "args = shlex.split(cmd)\n",
    "process = subprocess.Popen(args, bufsize=1, universal_newlines=True)\n",
    "process.wait()\n",
    "process.kill()"
   ]
  },
  {
   "cell_type": "code",
   "execution_count": 1,
   "metadata": {},
   "outputs": [],
   "source": [
    "# Load both pandapower and pv fmus\n",
    "from pyfmi import load_fmu\n",
    "pandapower = load_fmu('pandapower/pandapower.fmu', kind='cs')\n",
    "pv = load_fmu('pv_inverter/Pv_Inv_VoltVarWatt_simple_Slim.fmu', kind='cs')"
   ]
  },
  {
   "cell_type": "code",
   "execution_count": 2,
   "metadata": {},
   "outputs": [
    {
     "name": "stdout",
     "output_type": "stream",
     "text": [
      "inputs\n",
      "['KVAR_7', 'KW_7']\n",
      "outputs\n",
      "['Vpu_12', 'Vpu_7']\n"
     ]
    }
   ],
   "source": [
    "print('inputs')\n",
    "pandapower_inputs = pandapower.get_model_variables(causality=2).keys()\n",
    "print(pandapower_inputs)\n",
    "print('outputs')\n",
    "pandapower_outputs = pandapower.get_model_variables(causality=3).keys()\n",
    "print(pandapower_outputs)"
   ]
  },
  {
   "cell_type": "code",
   "execution_count": 3,
   "metadata": {},
   "outputs": [
    {
     "name": "stdout",
     "output_type": "stream",
     "text": [
      "inputs\n",
      "['v']\n",
      "outputs\n",
      "['Q', 'P']\n"
     ]
    }
   ],
   "source": [
    "print('inputs')\n",
    "pv_inputs = pv.get_model_variables(causality=2).keys()\n",
    "print(pv_inputs)\n",
    "print('outputs')\n",
    "pv_outputs = pv.get_model_variables(causality=3).keys()\n",
    "print(pv_outputs)"
   ]
  },
  {
   "cell_type": "code",
   "execution_count": 4,
   "metadata": {},
   "outputs": [
    {
     "data": {
      "text/plain": [
       "[56, 55]"
      ]
     },
     "execution_count": 4,
     "metadata": {},
     "output_type": "execute_result"
    }
   ],
   "source": [
    "pandapower_input_ref = [pandapower.get_variable_valueref(\n",
    "    pandapower_inputs[i]) for i in range(0, len(pandapower_inputs))]\n",
    "pandapower_output_ref = [pandapower.get_variable_valueref(\n",
    "    pandapower_outputs[i]) for i in range(0, len(pandapower_outputs))]\n",
    "pv_input_ref = [pv.get_variable_valueref(\n",
    "    pv_inputs[i]) for i in range(0, len(pv_inputs))]\n",
    "pv_output_ref = [pv.get_variable_valueref(\n",
    "    pv_outputs[i]) for i in range(0, len(pv_outputs))]\n",
    "pandapower_input_ref"
   ]
  },
  {
   "cell_type": "code",
   "execution_count": 5,
   "metadata": {},
   "outputs": [
    {
     "name": "stdout",
     "output_type": "stream",
     "text": [
      "0.0,2019-03-19 15:45:28.904000,0.0,0.0,0.9945337245296682,0.9751283601661919\n",
      "\n"
     ]
    },
    {
     "name": "stderr",
     "output_type": "stream",
     "text": [
      "No handlers could be found for logger \"pandapower.auxiliary\"\n"
     ]
    }
   ],
   "source": [
    "pandapower.initialize()"
   ]
  },
  {
   "cell_type": "code",
   "execution_count": 6,
   "metadata": {},
   "outputs": [],
   "source": [
    "pv_inverter_parameters = {\n",
    "    'weather_file':(\"C:\\\\Users\\\\cyder\\\\Desktop\\\\Jonathan\\\\\" +\n",
    "        'demo_cs_getting_started\\\\pv_inverter\\\\' +\n",
    "        'USA_CA_San.Francisco.Intl.AP.724940_TMY3.mos'),\n",
    "    'n': 1,\n",
    "    'A': (2000 * 1000) / (0.158 * 1000),\n",
    "    'eta': 0.158,\n",
    "    'lat': 37.9,\n",
    "    'til': 10,\n",
    "    'azi': 0,\n",
    "    'thrP': 0.05,  #0.05,\n",
    "    'hysP': 0.04,  #0.04,\n",
    "    'thrQ': 0.04,  #0.04,\n",
    "    'hysQ': 0.01,  #0.01,\n",
    "    'SMax': 2000*1.05,\n",
    "    'QMaxInd': 2000*1.05*0.44,\n",
    "    'QMaxCap': 2000*1.05*0.44,\n",
    "}\n",
    "\n",
    "for key, value in pv_inverter_parameters.items():\n",
    "    pv.set(key, value)"
   ]
  },
  {
   "cell_type": "code",
   "execution_count": 7,
   "metadata": {
    "scrolled": true
   },
   "outputs": [],
   "source": [
    "pv.setup_experiment(start_time=0, stop_time=360*24*3600)\n",
    "pv.initialize()"
   ]
  },
  {
   "cell_type": "code",
   "execution_count": 9,
   "metadata": {},
   "outputs": [
    {
     "name": "stdout",
     "output_type": "stream",
     "text": [
      "[-924.0005537597334, 0.00019450916252126456]\n"
     ]
    }
   ],
   "source": [
    "pv.set_real(pv_input_ref, [1.04])\n",
    "pv.do_step(current_t=0, step_size=60, new_step=0)\n",
    "tmp = list(pv.get_real(pv_output_ref))\n",
    "print(tmp)"
   ]
  },
  {
   "cell_type": "code",
   "execution_count": 11,
   "metadata": {
    "scrolled": false
   },
   "outputs": [
    {
     "name": "stdout",
     "output_type": "stream",
     "text": [
      "62.0,2019-03-19 15:49:17.767000,0.000194509162521,-924.00055376,0.9806425602129208,0.9609495236706906\n",
      "\n",
      "62.0,2019-03-19 15:49:17.827000,0.000194509162521,-924.00055376,0.9806425602129208,0.9609495236706906\n",
      "\n",
      "[0.960949541016578, 0.9806425779414617]\n"
     ]
    }
   ],
   "source": [
    "pandapower.set_real(pandapower_input_ref, [-924.0005537597334, 0.00019450916252126456])\n",
    "pandapower.do_step(current_t=60, step_size=2, new_step=1)\n",
    "tmp2 = list(pandapower.get_real(pandapower_output_ref))\n",
    "print(tmp2)"
   ]
  }
 ],
 "metadata": {
  "kernelspec": {
   "display_name": "Python 2",
   "language": "python",
   "name": "python2"
  },
  "language_info": {
   "codemirror_mode": {
    "name": "ipython",
    "version": 2
   },
   "file_extension": ".py",
   "mimetype": "text/x-python",
   "name": "python",
   "nbconvert_exporter": "python",
   "pygments_lexer": "ipython2",
   "version": "2.7.11"
  }
 },
 "nbformat": 4,
 "nbformat_minor": 2
}
