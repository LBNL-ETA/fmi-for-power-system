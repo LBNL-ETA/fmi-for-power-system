{
 "cells": [
  {
   "cell_type": "markdown",
   "metadata": {},
   "source": [
    "## Set Paths"
   ]
  },
  {
   "cell_type": "code",
   "execution_count": 4,
   "metadata": {},
   "outputs": [],
   "source": [
    "path_to_simulatortofmu = 'C:/Users/Joscha/Documents/Github/'\n",
    "path_to_fmiforpowersystems = \"C:\\\\Users\\\\Joscha\\\\Documents\\\\Github\\\\fmi-for-power-system\\\\\""
   ]
  },
  {
   "cell_type": "markdown",
   "metadata": {},
   "source": [
    "## Default Parameters"
   ]
  },
  {
   "cell_type": "code",
   "execution_count": 5,
   "metadata": {},
   "outputs": [],
   "source": [
    "# ###############################################\n",
    "# ########## Default Parameters #################\n",
    "# ###############################################\n",
    "start = '2016-06-16 22:00:00'\n",
    "end = '2016-06-18 00:00:00'\n",
    "pv_nominal_kw = 5000  # There are 3 PV locations hardcoded at node 7, 8, 9\n",
    "inverter_sizing = 1.05\n",
    "inverter_qmax_percentage = 0.44\n",
    "thrP = 0.04\n",
    "hysP = 0.06\n",
    "thrQ = 0.03\n",
    "hysQ = 0.03\n",
    "first_order_time_const = 1 * 60\n",
    "solver_relative_tolerance = 0.1\n",
    "solver_absolute_tolerance = 0.1\n",
    "solver_name = 'CVode'\n",
    "result_filename = 'result'"
   ]
  },
  {
   "cell_type": "markdown",
   "metadata": {},
   "source": [
    "## Package Imports"
   ]
  },
  {
   "cell_type": "code",
   "execution_count": 6,
   "metadata": {},
   "outputs": [],
   "source": [
    "import warnings\n",
    "warnings.filterwarnings(\"ignore\", message=\"numpy.dtype size changed\")\n",
    "warnings.filterwarnings(\"ignore\", message=\"numpy.ufunc size changed\")\n",
    "warnings.simplefilter(action='ignore', category=FutureWarning)\n",
    "import pandas\n",
    "import numpy\n",
    "import datetime\n",
    "from tabulate import tabulate\n",
    "import json\n",
    "import re\n",
    "\n",
    "# Imports useful for graphics\n",
    "import matplotlib\n",
    "import matplotlib.pyplot as plt\n",
    "import seaborn\n",
    "seaborn.set_style(\"whitegrid\")\n",
    "seaborn.despine()\n",
    "%matplotlib inline\n",
    "font = {'size'   : 14}\n",
    "matplotlib.rc('font', **font)\n",
    "\n"
   ]
  },
  {
   "cell_type": "markdown",
   "metadata": {},
   "source": [
    "## Date conversion"
   ]
  },
  {
   "cell_type": "code",
   "execution_count": 7,
   "metadata": {},
   "outputs": [],
   "source": [
    "begin = '2016-01-01 00:00:00'\n",
    "begin_dt = datetime.datetime.strptime(begin, '%Y-%m-%d %H:%M:%S')\n",
    "start_dt = datetime.datetime.strptime(start, '%Y-%m-%d %H:%M:%S')\n",
    "end_dt = datetime.datetime.strptime(end, '%Y-%m-%d %H:%M:%S')\n",
    "start_s = int((start_dt - begin_dt).total_seconds())\n",
    "end_s = int((end_dt - begin_dt).total_seconds())"
   ]
  },
  {
   "cell_type": "code",
   "execution_count": 9,
   "metadata": {},
   "outputs": [],
   "source": [
    "inverter_smax = pv_nominal_kw * inverter_sizing\n",
    "inverter_qmax = inverter_smax * inverter_qmax_percentage\n",
    "pv_inverter_parameters = {\n",
    "    'weather_file':(path_to_fmiforpowersystems +\n",
    "        'examples\\\\003_pandapower_modelexchange\\\\pv_inverter\\\\' +\n",
    "        'USA_CA_San.Francisco.Intl.AP.724940_TMY3.mos'),\n",
    "    'n': 1,\n",
    "    'A': (pv_nominal_kw * 1000) / (0.158 * 1000),\n",
    "    'eta': 0.158,\n",
    "    'lat': 37.9,\n",
    "    'til': 10,\n",
    "    'azi': 0,\n",
    "    'thrP': thrP,  #0.05,\n",
    "    'hysP': hysP,  #0.04,\n",
    "    'thrQ': thrQ,  #0.04,\n",
    "    'hysQ': hysQ,  #0.01,\n",
    "    'SMax': inverter_smax,\n",
    "    'QMaxInd': inverter_qmax,\n",
    "    'QMaxCap': inverter_qmax,\n",
    "    'Tfirstorder': first_order_time_const,\n",
    "}\n",
    "\n",
    "\n",
    "first_order_parameters = {\n",
    "    'T': first_order_time_const\n",
    "}\n",
    "\n",
    "\n",
    "run_simulation = True\n",
    "connections_filename = 'connections.xlsx'\n",
    "pv_inverter_path = 'pv_inverter/Pv_Inv_VoltVarWatt_simple_Slim.fmu'\n",
    "pv_inverter_path = 'pv_inverter/PV_0Inv_0VoltVarWat_0simple_0Slim_Pv_0Inv_0VoltVarWatt_0simple_0Slim.fmu'\n",
    "pandapower_path = 'pandapower/pandapower.fmu'\n",
    "pandapower_folder = 'pandapower'\n",
    "pandapower_parameter = {}\n",
    "firstorder_path = 'firstorder/FirstOrder.fmu'"
   ]
  },
  {
   "cell_type": "markdown",
   "metadata": {},
   "source": [
    "## Create the connection mapping"
   ]
  },
  {
   "cell_type": "code",
   "execution_count": 10,
   "metadata": {},
   "outputs": [
    {
     "name": "stdout",
     "output_type": "stream",
     "text": [
      "+----+-------------+-------------+---------------+--------------+\n",
      "|    | fmu1_id     | fmu2_id     | fmu1_output   | fmu2_input   |\n",
      "|----+-------------+-------------+---------------+--------------|\n",
      "|  0 | PV7         | pandapower  | P             | KW_7         |\n",
      "|  1 | PV7         | pandapower  | Q             | KVAR_7       |\n",
      "|  2 | pandapower  | firstorder7 | Vpu_7         | u            |\n",
      "|  3 | firstorder7 | PV7         | y             | v            |\n",
      "|  4 | PV9         | pandapower  | P             | KW_9         |\n",
      "+----+-------------+-------------+---------------+--------------+\n",
      "+----+--------------+--------------+---------------+--------------+\n",
      "|    | fmu1_id      | fmu2_id      | fmu1_output   | fmu2_input   |\n",
      "|----+--------------+--------------+---------------+--------------|\n",
      "|  7 | firstorder9  | PV9          | y             | v            |\n",
      "|  8 | PV24         | pandapower   | P             | KW_24        |\n",
      "|  9 | PV24         | pandapower   | Q             | KVAR_24      |\n",
      "| 10 | pandapower   | firstorder24 | Vpu_24        | u            |\n",
      "| 11 | firstorder24 | PV24         | y             | v            |\n",
      "+----+--------------+--------------+---------------+--------------+\n"
     ]
    }
   ],
   "source": [
    "connections = pandas.DataFrame(columns=['fmu1_id', 'fmu1_path',\n",
    "                                      'fmu2_id', 'fmu2_path',\n",
    "                                      'fmu1_parameters',\n",
    "                                      'fmu2_parameters',\n",
    "                                      'fmu1_output',\n",
    "                                      'fmu2_input'])\n",
    "\n",
    "# Connection for each customer\n",
    "nodes = [7, 9, 24]\n",
    "for index in nodes:\n",
    "    connections = connections.append(\n",
    "        {'fmu1_id': 'PV' + str(index),\n",
    "         'fmu1_path': pv_inverter_path,\n",
    "         'fmu2_id': 'pandapower',\n",
    "         'fmu2_path': pandapower_path,\n",
    "         'fmu1_parameters': pv_inverter_parameters,\n",
    "         'fmu2_parameters': pandapower_parameter,\n",
    "         'fmu1_output': 'P',\n",
    "         'fmu2_input': 'KW_' + str(index)},\n",
    "        ignore_index=True)   \n",
    "    connections = connections.append(\n",
    "        {'fmu1_id': 'PV' + str(index),\n",
    "         'fmu1_path': pv_inverter_path,\n",
    "         'fmu2_id': 'pandapower',\n",
    "         'fmu2_path': pandapower_path,\n",
    "         'fmu1_parameters': pv_inverter_parameters,\n",
    "         'fmu2_parameters': pandapower_parameter,\n",
    "         'fmu1_output': 'Q',\n",
    "         'fmu2_input': 'KVAR_' + str(index)},\n",
    "        ignore_index=True)\n",
    "    connections = connections.append(\n",
    "        {'fmu1_id': 'pandapower',\n",
    "         'fmu1_path': pandapower_path,\n",
    "         'fmu2_id': 'firstorder' + str(index),\n",
    "         'fmu2_path': firstorder_path,\n",
    "         'fmu1_parameters': pandapower_parameter,\n",
    "         'fmu2_parameters': first_order_parameters,\n",
    "         'fmu1_output': 'Vpu_' + str(index),\n",
    "         'fmu2_input': 'u'},\n",
    "        ignore_index=True)\n",
    "    connections = connections.append(\n",
    "        {'fmu1_id': 'firstorder' + str(index),\n",
    "         'fmu1_path': firstorder_path,\n",
    "         'fmu2_id': 'PV' + str(index),\n",
    "         'fmu2_path': pv_inverter_path,\n",
    "         'fmu1_parameters': first_order_parameters,\n",
    "         'fmu2_parameters': pv_inverter_parameters,\n",
    "         'fmu1_output': 'y',\n",
    "         'fmu2_input': 'v'},\n",
    "        ignore_index=True)\n",
    "    \n",
    "def _sanitize_name(name):\n",
    "    \"\"\"\n",
    "    Make a Modelica valid name.\n",
    "    In Modelica, a variable name:\n",
    "    Can contain any of the characters {a-z,A-Z,0-9,_}.\n",
    "    Cannot start with a number.\n",
    "    :param name(str): Variable name to be sanitized.\n",
    "    :return: Sanitized variable name.\n",
    "    \"\"\"\n",
    "\n",
    "    # Check if variable has a length > 0\n",
    "    assert(len(name) > 0), 'Require a non-null variable name.'\n",
    "\n",
    "    # If variable starts with a number add 'f_'.\n",
    "    if(name[0].isdigit()):\n",
    "        name = 'f_' + name\n",
    "\n",
    "    # Replace all illegal characters with an underscore.\n",
    "    g_rexBadIdChars = re.compile(r'[^a-zA-Z0-9_]')\n",
    "    name = g_rexBadIdChars.sub('_', name)\n",
    "    return name\n",
    "connections['fmu1_output'] = connections['fmu1_output'].apply(lambda x: _sanitize_name(x))\n",
    "connections['fmu2_input'] = connections['fmu2_input'].apply(lambda x: _sanitize_name(x))\n",
    "\n",
    "print(tabulate(connections[\n",
    "    ['fmu1_id', 'fmu2_id', 'fmu1_output', 'fmu2_input']].head(),\n",
    "    headers='keys', tablefmt='psql'))\n",
    "print(tabulate(connections[\n",
    "    ['fmu1_id', 'fmu2_id', 'fmu1_output', 'fmu2_input']].tail(),\n",
    "    headers='keys', tablefmt='psql'))\n",
    "connections.to_excel(connections_filename, index=False)"
   ]
  },
  {
   "cell_type": "markdown",
   "metadata": {},
   "source": [
    "# Recompile Pandapower FMU"
   ]
  },
  {
   "cell_type": "code",
   "execution_count": 13,
   "metadata": {},
   "outputs": [],
   "source": [
    "if run_simulation:\n",
    "    import shlex, subprocess\n",
    "    cmd = (\"C:/JModelica.org-2.4/setenv.bat 64 && \" +\n",
    "           \" cd \" + pandapower_folder + \" && \"\n",
    "           \"cyderc \" +\n",
    "           \" --path ./\"\n",
    "           \" --name pandapower\" +\n",
    "           \" --io pandapower.xlsx\" +\n",
    "           \" --path_to_simulatortofmu \" + path_to_simulatortofmu + \n",
    "           \" --fmu_struc python\")        \n",
    "    args = shlex.split(cmd)\n",
    "    process = subprocess.Popen(args, bufsize=1, universal_newlines=True)\n",
    "    process.wait()\n",
    "    process.kill()"
   ]
  },
  {
   "cell_type": "markdown",
   "metadata": {},
   "source": [
    "# Launch FMU simulation"
   ]
  }
 ],
 "metadata": {
  "kernelspec": {
   "display_name": "JModelica 2.4 64 bit",
   "language": "python",
   "name": "jmodelicap2_4_64bit"
  },
  "language_info": {
   "codemirror_mode": {
    "name": "ipython",
    "version": 2
   },
   "file_extension": ".py",
   "mimetype": "text/x-python",
   "name": "python",
   "nbconvert_exporter": "python",
   "pygments_lexer": "ipython2",
   "version": "2.7.13"
  }
 },
 "nbformat": 4,
 "nbformat_minor": 2
}
