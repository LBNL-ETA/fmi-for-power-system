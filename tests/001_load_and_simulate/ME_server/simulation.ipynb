{
 "cells": [
  {
   "cell_type": "code",
   "execution_count": 1,
   "metadata": {},
   "outputs": [],
   "source": [
    "from pyfmi import load_fmu\n",
    "from pyfmi.fmi_coupled import CoupledFMUModelME2"
   ]
  },
  {
   "cell_type": "code",
   "execution_count": 2,
   "metadata": {},
   "outputs": [
    {
     "ename": "FMUException",
     "evalue": "Error loading the binary. The FMU contains no binary for this platform.",
     "output_type": "error",
     "traceback": [
      "\u001b[1;31m---------------------------------------------------------------------------\u001b[0m",
      "\u001b[1;31mFMUException\u001b[0m                              Traceback (most recent call last)",
      "\u001b[1;32m<ipython-input-2-3a9ceeef5036>\u001b[0m in \u001b[0;36m<module>\u001b[1;34m()\u001b[0m\n\u001b[0;32m      1\u001b[0m \u001b[1;31m# Load CSV reader FMU\u001b[0m\u001b[1;33m\u001b[0m\u001b[1;33m\u001b[0m\u001b[0m\n\u001b[1;32m----> 2\u001b[1;33m \u001b[0mcsv_reader\u001b[0m \u001b[1;33m=\u001b[0m \u001b[0mload_fmu\u001b[0m\u001b[1;33m(\u001b[0m\u001b[1;34m'csv_reader/simulator.fmu'\u001b[0m\u001b[1;33m,\u001b[0m \u001b[0mlog_level\u001b[0m\u001b[1;33m=\u001b[0m\u001b[1;36m7\u001b[0m\u001b[1;33m)\u001b[0m\u001b[1;33m\u001b[0m\u001b[0m\n\u001b[0m\u001b[0;32m      3\u001b[0m \u001b[0mcsv_reader\u001b[0m\u001b[1;33m.\u001b[0m\u001b[0msetup_experiment\u001b[0m\u001b[1;33m(\u001b[0m\u001b[0mstart_time\u001b[0m\u001b[1;33m=\u001b[0m\u001b[1;36m0\u001b[0m\u001b[1;33m,\u001b[0m \u001b[0mstop_time\u001b[0m\u001b[1;33m=\u001b[0m\u001b[1;36m20\u001b[0m\u001b[1;33m)\u001b[0m\u001b[1;33m\u001b[0m\u001b[0m\n",
      "\u001b[1;32msrc\\pyfmi\\fmi.pyx\u001b[0m in \u001b[0;36mpyfmi.fmi.load_fmu (src\\pyfmi\\fmi.c:91205)\u001b[1;34m()\u001b[0m\n",
      "\u001b[1;32msrc\\pyfmi\\fmi.pyx\u001b[0m in \u001b[0;36mpyfmi.fmi.FMUModelME2.__init__ (src\\pyfmi\\fmi.c:80337)\u001b[1;34m()\u001b[0m\n",
      "\u001b[1;32msrc\\pyfmi\\fmi.pyx\u001b[0m in \u001b[0;36mpyfmi.fmi.FMUModelBase2.__init__ (src\\pyfmi\\fmi.c:43840)\u001b[1;34m()\u001b[0m\n",
      "\u001b[1;31mFMUException\u001b[0m: Error loading the binary. The FMU contains no binary for this platform."
     ]
    }
   ],
   "source": [
    "# Load CSV reader FMU\n",
    "csv_reader = load_fmu('csv_reader/simulator.fmu', log_level=7)\n",
    "csv_reader.setup_experiment(start_time=0, stop_time=20)"
   ]
  },
  {
   "cell_type": "code",
   "execution_count": null,
   "metadata": {},
   "outputs": [],
   "source": [
    "# Create the Master algorithm\n",
    "master = CoupledFMUModelME2([csv_reader], [])\n",
    "\n",
    "# Launch the simulation\n",
    "results = master.simulate(final_time=23.0)\n",
    "csv_reader.terminate()"
   ]
  },
  {
   "cell_type": "code",
   "execution_count": null,
   "metadata": {},
   "outputs": [],
   "source": [
    "# Plot the results\n",
    "import matplotlib.pyplot as plt\n",
    "%matplotlib inline\n",
    "\n",
    "plt.figure(figsize=(10, 3))\n",
    "plt.plot(results[csv_reader][\"time\"], results[csv_reader][\"y\"])\n",
    "plt.ylabel(\"Data from the CSV file\")\n",
    "plt.xlabel(\"Time\")\n",
    "plt.show()"
   ]
  }
 ],
 "metadata": {
  "kernelspec": {
   "display_name": "JModelica 2.4 64 bit",
   "language": "python",
   "name": "jmodelicap2_4_64bit"
  },
  "language_info": {
   "codemirror_mode": {
    "name": "ipython",
    "version": 2
   },
   "file_extension": ".py",
   "mimetype": "text/x-python",
   "name": "python",
   "nbconvert_exporter": "python",
   "pygments_lexer": "ipython2",
   "version": "2.7.13"
  }
 },
 "nbformat": 4,
 "nbformat_minor": 2
}
