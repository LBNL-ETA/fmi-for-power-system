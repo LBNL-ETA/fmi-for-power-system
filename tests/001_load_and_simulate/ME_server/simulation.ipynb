{
 "cells": [
  {
   "cell_type": "code",
   "execution_count": 1,
   "metadata": {},
   "outputs": [],
   "source": [
    "from pyfmi import load_fmu\n",
    "from pyfmi.fmi_coupled import CoupledFMUModelME2"
   ]
  },
  {
   "cell_type": "code",
   "execution_count": null,
   "metadata": {},
   "outputs": [],
   "source": [
    "# Load CSV reader FMU\n",
    "csv_reader = load_fmu('csv_reader/simulator.fmu', log_level=7)\n",
    "csv_reader.setup_experiment(start_time=0, stop_time=20)"
   ]
  },
  {
   "cell_type": "code",
   "execution_count": null,
   "metadata": {},
   "outputs": [],
   "source": [
    "# Create the Master algorithm\n",
    "master = CoupledFMUModelME2([csv_reader], [])\n",
    "\n",
    "# Launch the simulation\n",
    "results = master.simulate(final_time=23.0)\n",
    "csv_reader.terminate()"
   ]
  },
  {
   "cell_type": "code",
   "execution_count": null,
   "metadata": {},
   "outputs": [],
   "source": [
    "# Plot the results\n",
    "import matplotlib.pyplot as plt\n",
    "%matplotlib inline\n",
    "\n",
    "plt.figure(figsize=(10, 3))\n",
    "plt.plot(results[csv_reader][\"time\"], results[csv_reader][\"y\"])\n",
    "plt.ylabel(\"Data from the CSV file\")\n",
    "plt.xlabel(\"Time\")\n",
    "plt.show()"
   ]
  }
 ],
 "metadata": {
  "kernelspec": {
   "display_name": "JModelicaP",
   "language": "python",
   "name": "jmodelicap"
  },
  "language_info": {
   "codemirror_mode": {
    "name": "ipython",
    "version": 2
   },
   "file_extension": ".py",
   "mimetype": "text/x-python",
   "name": "python",
   "nbconvert_exporter": "python",
   "pygments_lexer": "ipython2",
   "version": "2.7.11"
  }
 },
 "nbformat": 4,
 "nbformat_minor": 2
}
