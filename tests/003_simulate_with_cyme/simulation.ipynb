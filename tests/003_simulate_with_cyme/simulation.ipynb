{
 "cells": [
  {
   "cell_type": "code",
   "execution_count": 1,
   "metadata": {},
   "outputs": [],
   "source": [
    "from pyfmi import load_fmu\n",
    "from pyfmi.master import Master"
   ]
  },
  {
   "cell_type": "code",
   "execution_count": 2,
   "metadata": {},
   "outputs": [],
   "source": [
    "# Load CSV reader FMU\n",
    "cyme = load_fmu('cyme/simulator.fmu', log_level=7)\n",
    "cyme.setup_experiment(start_time=0, stop_time=10)"
   ]
  },
  {
   "cell_type": "code",
   "execution_count": null,
   "metadata": {},
   "outputs": [],
   "source": [
    "# Create the Master algorithm\n",
    "master = Master([cyme], [])\n",
    "options = master.simulate_options()\n",
    "options['step_size'] = 1.0\n",
    "\n",
    "# Launch the simulation\n",
    "results = master.simulate(options=options, final_time=10.0)"
   ]
  },
  {
   "cell_type": "code",
   "execution_count": null,
   "metadata": {},
   "outputs": [],
   "source": [
    "cyme.terminate()"
   ]
  },
  {
   "cell_type": "code",
   "execution_count": null,
   "metadata": {},
   "outputs": [],
   "source": [
    "# Plot the results\n",
    "import matplotlib.pyplot as plt\n",
    "%matplotlib inline\n",
    "\n",
    "plt.figure(figsize=(10, 3))\n",
    "plt.plot(results[cyme][\"time\"], results[cyme][\"828!Vpu\"])\n",
    "plt.plot(results[cyme][\"time\"], results[cyme][\"836!Vpu\"])\n",
    "plt.ylabel(\"Voltage [p.u.]\")\n",
    "plt.xlabel(\"Time\")\n",
    "plt.show()"
   ]
  }
 ],
 "metadata": {
  "kernelspec": {
   "display_name": "Python 3",
   "language": "python",
   "name": "python3"
  },
  "language_info": {
   "codemirror_mode": {
    "name": "ipython",
    "version": 3
   },
   "file_extension": ".py",
   "mimetype": "text/x-python",
   "name": "python",
   "nbconvert_exporter": "python",
   "pygments_lexer": "ipython3",
   "version": "3.4.3"
  }
 },
 "nbformat": 4,
 "nbformat_minor": 2
}
