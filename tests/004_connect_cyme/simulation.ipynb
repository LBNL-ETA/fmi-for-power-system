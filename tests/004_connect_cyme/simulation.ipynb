{
 "cells": [
  {
   "cell_type": "code",
   "execution_count": 1,
   "metadata": {},
   "outputs": [],
   "source": [
    "from pyfmi import load_fmu\n",
    "from pyfmi.fmi_coupled import CoupledFMUModelME2"
   ]
  },
  {
   "cell_type": "code",
   "execution_count": 2,
   "metadata": {},
   "outputs": [],
   "source": [
    "# Load CYME FMU\n",
    "cyme = load_fmu('cyme/simulator.fmu', log_level=7)\n",
    "cyme.setup_experiment(start_time=0, stop_time=20)"
   ]
  },
  {
   "cell_type": "code",
   "execution_count": 3,
   "metadata": {},
   "outputs": [],
   "source": [
    "# Load PV\n",
    "P_A = 750 * 4  # m2\n",
    "pv = load_fmu('pv/pv.fmu', log_level=7)\n",
    "ref = pv.get_variable_valueref(\"filNam\")\n",
    "pv.set_string([ref],\n",
    "              [bytes('pv/' + 'USA_CA_San.Francisco.Intl.AP.724940_TMY3.mos')])\n",
    "pv.setup_experiment(start_time=0, stop_time=20)\n",
    "pv.set(\"A_PV\", P_A)  # m2\n",
    "pv.set(\"azi\", 180)\n",
    "\n",
    "# Load inverter\n",
    "P_max = P_A * 1000 * 0.12 / 1000\n",
    "S_max = P_max + 0.05 * P_max\n",
    "control = load_fmu('inverter/controls.fmu', log_level=7)\n",
    "control.setup_experiment(start_time=0, stop_time=20)\n",
    "control.set(\"QMaxCap\", 0.3 * S_max)\n",
    "control.set(\"QMaxInd\", 0.3 * S_max)\n",
    "control.set(\"thr\", 0.07)\n",
    "control.set(\"hys\", 0.033)"
   ]
  },
  {
   "cell_type": "markdown",
   "metadata": {},
   "source": [
    "# Works"
   ]
  },
  {
   "cell_type": "code",
   "execution_count": 4,
   "metadata": {},
   "outputs": [
    {
     "name": "stderr",
     "output_type": "stream",
     "text": [
      "WARNING:root:No dependency information for the outputs was found in the model description. Assuming complete dependency with the exception if the output is a state by itself.\n"
     ]
    },
    {
     "name": "stdout",
     "output_type": "stream",
     "text": [
      "Final Run Statistics: --- \n",
      "\n",
      " Number of steps                                 : 3\n",
      " Number of function evaluations                  : 7\n",
      " Number of Jacobian evaluations                  : 1\n",
      " Number of function eval. due to Jacobian eval.  : 1\n",
      " Number of error test failures                   : 0\n",
      " Number of nonlinear iterations                  : 3\n",
      " Number of nonlinear convergence failures        : 0\n",
      " Number of state function evaluations            : 4\n",
      "\n",
      "Solver options:\n",
      "\n",
      " Solver                   : CVode\n",
      " Linear multistep method  : BDF\n",
      " Nonlinear solver         : Newton\n",
      " Linear solver type       : DENSE\n",
      " Maximal order            : 5\n",
      " Tolerances (absolute)    : 1e-06\n",
      " Tolerances (relative)    : 0.0001\n",
      "\n",
      "Simulation interval    : 0.0 - 20.0 seconds.\n",
      "Elapsed simulation time: 0.753698670495 seconds.\n"
     ]
    }
   ],
   "source": [
    "# Connect FMUs and create Master\n",
    "models = [(\"cyme\", cyme), (\"pv\", pv), (\"control\", control)]\n",
    "connections = []\n",
    "master = CoupledFMUModelME2(models, connections)\n",
    "options = master.simulate_options()\n",
    "options['ncp'] = 20\n",
    "\n",
    "# Launch simulation\n",
    "results = master.simulate(options=options, final_time=20.0)\n",
    "cyme.terminate()\n",
    "pv.terminate()\n",
    "control.terminate()"
   ]
  },
  {
   "cell_type": "markdown",
   "metadata": {},
   "source": [
    "# Crash Python"
   ]
  },
  {
   "cell_type": "code",
   "execution_count": null,
   "metadata": {
    "scrolled": false
   },
   "outputs": [
    {
     "name": "stderr",
     "output_type": "stream",
     "text": [
      "WARNING:root:No dependency information for the outputs was found in the model description. Assuming complete dependency with the exception if the output is a state by itself.\n"
     ]
    }
   ],
   "source": [
    "# Connect FMUs and create Master\n",
    "models = [(\"cyme\", cyme), (\"pv\", pv), (\"control\", control)]\n",
    "connections = [(pv, \"PV_generation\", cyme, \"IEEE34NODES_836_KW\")\n",
    "               (control, \"QCon\", cyme, \"IEEE34NODES_836_KVAR\"),\n",
    "               (cyme, \"voltage_836_Vpu\", control, \"v\")]\n",
    "master = CoupledFMUModelME2(models, connections)\n",
    "options = master.simulate_options()\n",
    "options['ncp'] = 20\n",
    "\n",
    "# Launch simulation\n",
    "results = master.simulate(options=options, final_time=20.0)\n",
    "cyme.terminate()\n",
    "pv.terminate()\n",
    "control.terminate()"
   ]
  },
  {
   "cell_type": "markdown",
   "metadata": {},
   "source": [
    "# Crash Python"
   ]
  },
  {
   "cell_type": "code",
   "execution_count": null,
   "metadata": {},
   "outputs": [],
   "source": [
    "# Connect FMUs and create Master\n",
    "models = [(\"cyme\", cyme), (\"pv\", pv), (\"control\", control)]\n",
    "connections = [(pv, \"PV_generation\", cyme, \"IEEE34NODES_836_KW\")]\n",
    "#                (control, \"QCon\", cyme, \"IEEE34NODES_836_KVAR\"),\n",
    "#                (cyme, \"voltage_836_Vpu\", control, \"v\")]\n",
    "master = CoupledFMUModelME2(models, connections)\n",
    "options = master.simulate_options()\n",
    "options['ncp'] = 20\n",
    "\n",
    "# Launch simulation\n",
    "results = master.simulate(options=options, final_time=20.0)\n",
    "cyme.terminate()\n",
    "pv.terminate()\n",
    "control.terminate()"
   ]
  },
  {
   "cell_type": "code",
   "execution_count": 5,
   "metadata": {},
   "outputs": [
    {
     "data": {
      "image/png": "[encoded data removed]",
      "text/plain": [
       "<matplotlib.figure.Figure at 0x108b71f0>"
      ]
     },
     "metadata": {},
     "output_type": "display_data"
    }
   ],
   "source": [
    "# Plot the results\n",
    "import matplotlib.pyplot as plt\n",
    "%matplotlib inline\n",
    "\n",
    "plt.figure(figsize=(10, 3))\n",
    "plt.plot(results[\"time\"], results[\"cyme.voltage_836_Vpu\"])\n",
    "plt.ylabel(\"Voltage [p.u.]\")\n",
    "plt.xlabel(\"Time\")\n",
    "plt.show()"
   ]
  }
 ],
 "metadata": {
  "kernelspec": {
   "display_name": "JModelicaP",
   "language": "python",
   "name": "jmodelicap"
  },
  "language_info": {
   "codemirror_mode": {
    "name": "ipython",
    "version": 2
   },
   "file_extension": ".py",
   "mimetype": "text/x-python",
   "name": "python",
   "nbconvert_exporter": "python",
   "pygments_lexer": "ipython2",
   "version": "2.7.11"
  }
 },
 "nbformat": 4,
 "nbformat_minor": 2
}
